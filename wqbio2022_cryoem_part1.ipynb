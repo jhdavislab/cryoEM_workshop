{
  "cells": [
    {
      "cell_type": "markdown",
      "metadata": {
        "id": "view-in-github",
        "colab_type": "text"
      },
      "source": [
        "<a href=\"https://colab.research.google.com/github/jhdavislab/wqbio2022/blob/main/wqbio2022_cryoem_part1.ipynb\" target=\"_parent\"><img src=\"https://colab.research.google.com/assets/colab-badge.svg\" alt=\"Open In Colab\"/></a>"
      ]
    },
    {
      "cell_type": "markdown",
      "source": [
        "# Part 1: Visualizing cryo-EM movies and micrographs\n",
        "*Material developed by Prof. Joey Davis (jhdavis@mit.edu), and graduate students Barrett Powell (bmp@mit.edu) and Laurel Kinman (lkinman@mit.edu). More information available at: https://github.com/jhdavislab/wqbio2022*"
      ],
      "metadata": {
        "id": "XmNdRocz-i7q"
      }
    },
    {
      "cell_type": "markdown",
      "metadata": {
        "id": "w7j6D6kyifw2"
      },
      "source": [
        "## Importing our required libraries"
      ]
    },
    {
      "cell_type": "code",
      "execution_count": null,
      "metadata": {
        "id": "S6pCIhC8QUrv"
      },
      "outputs": [],
      "source": [
        "!pip install mrcfile #this line will install a library we use to read mrc files, which is the standard format for all cryoEM data."
      ]
    },
    {
      "cell_type": "code",
      "execution_count": null,
      "metadata": {
        "id": "qZ1FCdOAMk3z"
      },
      "outputs": [],
      "source": [
        "import mrcfile as mrcf\n",
        "import numpy as np\n",
        "import matplotlib.pyplot as plt\n",
        "import math"
      ]
    },
    {
      "cell_type": "code",
      "execution_count": null,
      "metadata": {
        "id": "AWhVewBxMiNK"
      },
      "outputs": [],
      "source": [
        "from google.colab import drive\n",
        "drive.mount('/content/drive')"
      ]
    },
    {
      "cell_type": "markdown",
      "metadata": {
        "id": "w6I_84fjjvP4"
      },
      "source": [
        "## Defining a few plotting parameters"
      ]
    },
    {
      "cell_type": "code",
      "execution_count": null,
      "metadata": {
        "id": "141hwI31jyPu"
      },
      "outputs": [],
      "source": [
        "#####################################################\n",
        "figsize = (8,8) #set this appropriately based on your screen size - 8,8 works well on a laptop\n",
        "\n",
        "ang_px = 0.6575 #this was the pixel size used in the microscope...crazy, right?\n",
        "proteasome_length_ang = 150 #this is approxiamately the length of the proteasome in angstroms\n",
        "proteasome_length_px = proteasome_length_ang/ang_px #this is the length in pixels\n",
        "######################################################"
      ]
    },
    {
      "cell_type": "markdown",
      "metadata": {
        "id": "1lhscJPiiaYB"
      },
      "source": [
        "## Defining a few useful functions to plot our images\n",
        "* Time permitting, you can read through this function, but it is not critical for this module.\n",
        " * *If you do take the time, think about why we set the vmin and vmax the way we do - hint: try plotting a histogram of the pixel values in one of our images to think about why we need to narrow the range to see our images*"
      ]
    },
    {
      "cell_type": "code",
      "execution_count": null,
      "metadata": {
        "id": "6AQ_AeErRHzS"
      },
      "outputs": [],
      "source": [
        "def plot_micrograph(img, figsize=figsize, axis=False, crange=2, ax=None):\n",
        "    if ax is None:\n",
        "      f, ax = plt.subplots(1,1, figsize=figsize) #this creates a figure for us\n",
        "    img_mean = img.mean() #electron micrographs often have outlier pixels, so we calculate the mean/std, and typically set the display range to mean+/-2*std\n",
        "    img_std = img.std()\n",
        "    ax.imshow(img, cmap='gray', origin='lower', vmin=img_mean-crange*img_std, vmax=img_mean+crange*img_std) #here we set the crange parameter to display mean+/-2*std - this thresholds the outlier pixels\n",
        "    if not axis:\n",
        "        ax.axis('off')\n",
        "    return ax"
      ]
    },
    {
      "cell_type": "code",
      "execution_count": null,
      "metadata": {
        "id": "yP4h1ksRom7e"
      },
      "outputs": [],
      "source": [
        "def plot_movie(movie, figsize=(10,21), axis=False, crange=2, num_cols=2):\n",
        "  num_frames = movie.shape[0]\n",
        "  num_rows = math.ceil(num_frames/num_cols)\n",
        "  f,axes = plt.subplots(num_rows, num_cols, figsize=figsize)\n",
        "  axes = axes.flatten()\n",
        "  for frame in range(num_frames):\n",
        "    plot_micrograph(movie[frame,:,:], axis=axis, crange=crange, ax=axes[frame])\n",
        "  if not axis:\n",
        "    for a in axes:\n",
        "      a.axis('off')\n",
        "\n",
        "  plt.tight_layout()"
      ]
    },
    {
      "cell_type": "markdown",
      "metadata": {
        "id": "gmTwitbitqYo"
      },
      "source": [
        "## Ploting a movie"
      ]
    },
    {
      "cell_type": "markdown",
      "metadata": {
        "id": "2vNPWRYhrMmP"
      },
      "source": [
        "* Here, we will load a single movie file - note that I have cropped the image from ~7000x7000 to 1000x1000, focusing in on a small region of the image. This was done simply to make the file more managable (the original movie is ~8Gbi, and a typical experiment will collect ~1000 movies!!!!)"
      ]
    },
    {
      "cell_type": "code",
      "execution_count": null,
      "metadata": {
        "id": "ChT6CDOzksIm"
      },
      "outputs": [],
      "source": [
        "# Be sure that you have \"saved a copy\" of the qmw_cryoem_data into My Drive, and not a sub-directory\n",
        "movie1 = mrcf.open('/content/drive/My Drive/qmw_cryoem_data/t20s_movie_crop.mrc').data\n",
        "movie1.shape"
      ]
    },
    {
      "cell_type": "markdown",
      "metadata": {
        "id": "_Mwpy6UvreOc"
      },
      "source": [
        "* Take a moment to think about the shape of this numpy array - **what does each axis refer to?**"
      ]
    },
    {
      "cell_type": "markdown",
      "metadata": {
        "id": "gSdD41FBrknU"
      },
      "source": [
        "Let's now plot the first 8 movie frames using the function we defined above. Note how I am selecting the frames of interest."
      ]
    },
    {
      "cell_type": "code",
      "execution_count": null,
      "metadata": {
        "id": "KtNHWAdArpB7"
      },
      "outputs": [],
      "source": [
        "plot_movie(movie1[0:8,:,:])"
      ]
    },
    {
      "cell_type": "markdown",
      "metadata": {
        "id": "QsE_jREwsMWO"
      },
      "source": [
        "* Yikes - I don't see any proteasome, do you?\n",
        "* Let's try looking at the last 8 frames. **Fill in the code below to plot the final 8 frames**"
      ]
    },
    {
      "cell_type": "code",
      "execution_count": null,
      "metadata": {
        "colab": {
          "background_save": true
        },
        "id": "ZwaRSFJHsXOp"
      },
      "outputs": [],
      "source": [
        "#Fill me in\n"
      ]
    },
    {
      "cell_type": "code",
      "source": [
        "#@title Solution\n",
        "plot_movie(movie1[-8:,:,:])"
      ],
      "metadata": {
        "cellView": "form",
        "id": "qwkNo_D_hNIW"
      },
      "execution_count": null,
      "outputs": []
    },
    {
      "cell_type": "markdown",
      "metadata": {
        "id": "LlBzP5SAsgbd"
      },
      "source": [
        "Hmm, still not very clear.\n",
        "\n",
        "**What do you think will happen if we sum all of the movie frames - do we expect to increase the signal to noise ratio this way?**"
      ]
    },
    {
      "cell_type": "markdown",
      "metadata": {
        "id": "iyPJGcAaU9FQ"
      },
      "source": [
        "## Inspecting a micrograph"
      ]
    },
    {
      "cell_type": "code",
      "execution_count": null,
      "metadata": {
        "colab": {
          "background_save": true
        },
        "id": "-2Px0BxysfNM"
      },
      "outputs": [],
      "source": [
        "summed_movie = np.sum(movie1, axis=0) #read this line of code carefully and think about what I am summing - discuss with your neighbor"
      ]
    },
    {
      "cell_type": "markdown",
      "metadata": {
        "id": "-3zVmD97s4aM"
      },
      "source": [
        "Let's now plot the resulting \"micrograph\". Here, I've also added a scale bar corresponding to the length of the long axies of a proteasome. In a real experiment, we wouldn't necessarily know how large of an object to expect, but we might have a general idea. \n",
        "\n",
        "**What orthogonal biochemical or structural techniques might one use to get a general idea of what size of an object we expect to see?**"
      ]
    },
    {
      "cell_type": "code",
      "execution_count": null,
      "metadata": {
        "colab": {
          "background_save": true
        },
        "id": "Q8txRZLFlu0X"
      },
      "outputs": [],
      "source": [
        "ax = plot_micrograph(summed_movie)\n",
        "ax.plot([550,550+proteasome_length_px], [900,900], color='red', linewidth=2)"
      ]
    },
    {
      "cell_type": "markdown",
      "metadata": {
        "id": "53qZQhG45BuF"
      },
      "source": [
        "**Do you see any proteasomes?**\n",
        "* It's still challenging, right? But remember, we're looking at a **single** molecule - like one teeny tiny molecule that is ~10,000 times smaller than the width of a human hair. No matter how many times I see images like this, I am still blown away that it's possible. \n",
        "\n",
        "Anyways, let's try and emphasize the low frequency features of the image, and down-weight the high frequency features. \n",
        "\n",
        "* This approeach is known as \"low-pass filtering\", and it will utilize a Fourier transform of our data.\n",
        "\n",
        "**Proceed to [part2](https://colab.research.google.com/drive/1T3TM6mBGDRw-i1kZ9FjhqL3Z_g0mLxPF) of the workshop**"
      ]
    }
  ],
  "metadata": {
    "colab": {
      "collapsed_sections": [],
      "name": "wqbio2022_cryoem_part1.ipynb",
      "provenance": [],
      "include_colab_link": true
    },
    "kernelspec": {
      "display_name": "Python 3",
      "name": "python3"
    },
    "language_info": {
      "name": "python"
    }
  },
  "nbformat": 4,
  "nbformat_minor": 0
}